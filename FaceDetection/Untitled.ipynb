{
 "cells": [
  {
   "cell_type": "code",
   "execution_count": 17,
   "id": "84559f2a-5489-4f79-9184-4fa00f9c0348",
   "metadata": {},
   "outputs": [],
   "source": [
    "import os \n",
    "\n",
    "os.chdir(r'C:\\Users\\pc\\Downloads\\FaceDetection')\n"
   ]
  },
  {
   "cell_type": "code",
   "execution_count": 3,
   "id": "70424056-6958-42e2-a6ee-7f4bc6cece5d",
   "metadata": {},
   "outputs": [],
   "source": [
    "import cv2\n",
    "from simple import SimpleFacerec"
   ]
  },
  {
   "cell_type": "code",
   "execution_count": 4,
   "id": "44acb0de-0abb-4375-ac01-9d143c97751a",
   "metadata": {},
   "outputs": [],
   "source": [
    "import face_recognition\n"
   ]
  },
  {
   "cell_type": "code",
   "execution_count": 13,
   "id": "27859afc-1cac-4031-bb16-0af9d314ba75",
   "metadata": {},
   "outputs": [],
   "source": [
    "import face_recognition\n",
    "import cv2\n",
    "import os\n",
    "import glob\n",
    "import numpy as np\n",
    "\n",
    "class SimpleFacerec:\n",
    "    def __init__(self):\n",
    "        self.known_face_encodings = []\n",
    "        self.known_face_names = []\n",
    "\n",
    "        # Resize frame for faster processing\n",
    "        self.frame_resizing = 0.25\n",
    "\n",
    "    def load_encoding_images(self, images_path):\n",
    "        \"\"\"\n",
    "        Load images from the provided directory and encode faces.\n",
    "        :param images_path: Directory path to images\n",
    "        \"\"\"\n",
    "        images_path = glob.glob(os.path.join(images_path, \"*.*\"))\n",
    "        print(f\"{len(images_path)} encoding images found.\")\n",
    "\n",
    "        # Process and encode each image\n",
    "        for img_path in images_path:\n",
    "            img = cv2.imread(img_path)\n",
    "            rgb_img = cv2.cvtColor(img, cv2.COLOR_BGR2RGB)\n",
    "\n",
    "            # Extract the filename (without extension) for the name\n",
    "            basename = os.path.basename(img_path)\n",
    "            filename, _ = os.path.splitext(basename)\n",
    "\n",
    "            # Get the face encoding\n",
    "            img_encoding = face_recognition.face_encodings(rgb_img)[0]\n",
    "\n",
    "            # Store the encoding and corresponding name\n",
    "            self.known_face_encodings.append(img_encoding)\n",
    "            self.known_face_names.append(filename)\n",
    "        print(\"Encoding images loaded successfully.\")\n",
    "\n",
    "    def detect_known_faces(self, frame):\n",
    "        \"\"\"\n",
    "        Detect known faces in a given frame.\n",
    "        :param frame: Video frame to process\n",
    "        :return: face locations and their corresponding names\n",
    "        \"\"\"\n",
    "        small_frame = cv2.resize(frame, (0, 0), fx=self.frame_resizing, fy=self.frame_resizing)\n",
    "        rgb_small_frame = cv2.cvtColor(small_frame, cv2.COLOR_BGR2RGB)\n",
    "\n",
    "        # Detect faces in the resized frame\n",
    "        face_locations = face_recognition.face_locations(rgb_small_frame)\n",
    "        face_encodings = face_recognition.face_encodings(rgb_small_frame, face_locations)\n",
    "\n",
    "        face_names = []\n",
    "        for face_encoding in face_encodings:\n",
    "            # Compare detected face with known faces\n",
    "            matches = face_recognition.compare_faces(self.known_face_encodings, face_encoding)\n",
    "            name = \"Unknown\"\n",
    "\n",
    "            # Proceed only if known encodings exist\n",
    "            if len(self.known_face_encodings) > 0:\n",
    "                # Get the face distance\n",
    "                face_distances = face_recognition.face_distance(self.known_face_encodings, face_encoding)\n",
    "\n",
    "                # Ensure face_distances is not empty\n",
    "                if len(face_distances) > 0:\n",
    "                    best_match_index = np.argmin(face_distances)\n",
    "                    if matches[best_match_index]:\n",
    "                        name = self.known_face_names[best_match_index]\n",
    "\n",
    "            face_names.append(name)\n",
    "\n",
    "        # Scale face locations back to original frame size\n",
    "        face_locations = np.array(face_locations) / self.frame_resizing\n",
    "        return face_locations.astype(int), face_names\n",
    "\n",
    "    def process_video_stream(self, video_source):\n",
    "        \"\"\"\n",
    "        Process the video stream to detect known faces in real-time.\n",
    "        :param video_source: Video source (camera index or video file)\n",
    "        \"\"\"\n",
    "        cap = cv2.VideoCapture(video_source)\n",
    "\n",
    "        while True:\n",
    "            ret, frame = cap.read()\n",
    "            if not ret:\n",
    "                print(\"Failed to grab frame\")\n",
    "                break\n",
    "\n",
    "            # Detect known faces in the frame\n",
    "            face_locations, face_names = self.detect_known_faces(frame)\n",
    "\n",
    "            # Draw boxes around faces and label them\n",
    "            for (top, right, bottom, left), name in zip(face_locations, face_names):\n",
    "                # Draw a rectangle around the face\n",
    "                cv2.rectangle(frame, (left, top), (right, bottom), (0, 255, 0), 2)\n",
    "\n",
    "                # Label the face\n",
    "                cv2.rectangle(frame, (left, bottom - 35), (right, bottom), (0, 255, 0), cv2.FILLED)\n",
    "                cv2.putText(frame, name, (left + 6, bottom - 6), cv2.FONT_HERSHEY_DUPLEX, 0.6, (255, 255, 255), 1)\n",
    "\n",
    "            # Display the result\n",
    "            cv2.imshow(\"Video\", frame)\n",
    "\n",
    "            # Break on 'q' key press\n",
    "            if cv2.waitKey(1) & 0xFF == ord('q'):\n",
    "                break\n",
    "\n",
    "        # Release the video capture and close windows\n",
    "        cap.release()\n",
    "        cv2.destroyAllWindows()\n"
   ]
  },
  {
   "cell_type": "code",
   "execution_count": 16,
   "id": "07ed467f-0fe6-4947-b26a-99fc0f87512b",
   "metadata": {},
   "outputs": [
    {
     "name": "stdout",
     "output_type": "stream",
     "text": [
      "3 encoding images found.\n",
      "Encoding images loaded successfully.\n"
     ]
    }
   ],
   "source": [
    "sfr = SimpleFacerec()\n",
    "sfr.load_encoding_images(\"images\")\n",
    "sfr.process_video_stream(0)  "
   ]
  },
  {
   "cell_type": "code",
   "execution_count": null,
   "id": "5b76f9b2-280d-41ed-937e-58fd426cd0cd",
   "metadata": {},
   "outputs": [],
   "source": []
  }
 ],
 "metadata": {
  "kernelspec": {
   "display_name": "Python 3 (ipykernel)",
   "language": "python",
   "name": "python3"
  },
  "language_info": {
   "codemirror_mode": {
    "name": "ipython",
    "version": 3
   },
   "file_extension": ".py",
   "mimetype": "text/x-python",
   "name": "python",
   "nbconvert_exporter": "python",
   "pygments_lexer": "ipython3",
   "version": "3.9.19"
  }
 },
 "nbformat": 4,
 "nbformat_minor": 5
}
