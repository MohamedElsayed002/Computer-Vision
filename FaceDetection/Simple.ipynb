{
 "cells": [
  {
   "cell_type": "code",
   "execution_count": 8,
   "metadata": {},
   "outputs": [],
   "source": [
    "import dlib\n",
    "import cv2 \n",
    "import face_recognition"
   ]
  },
  {
   "cell_type": "code",
   "execution_count": 14,
   "metadata": {},
   "outputs": [],
   "source": [
    "img = cv2.imread('paul.jpg')\n",
    "rgb_img = cv2.cvtColor(img,cv2.COLOR_BGR2RGB)\n",
    "img_encoding = face_recognition.face_encodings(rgb_img)[0]\n",
    "\n",
    "img2 = cv2.imread('paul2.jpg')\n",
    "rgb_img2 = cv2.cvtColor(img2,cv2.COLOR_BGR2RGB)\n",
    "img_encoding2 = face_recognition.face_encodings(rgb_img2)[0]\n"
   ]
  },
  {
   "cell_type": "code",
   "execution_count": 15,
   "metadata": {},
   "outputs": [
    {
     "name": "stdout",
     "output_type": "stream",
     "text": [
      "Result [True]\n"
     ]
    }
   ],
   "source": [
    "result = face_recognition.compare_faces([img_encoding],img_encoding2)\n",
    "print('Result',result)"
   ]
  },
  {
   "cell_type": "code",
   "execution_count": 19,
   "metadata": {},
   "outputs": [],
   "source": [
    "import os \n",
    "import glob \n",
    "import numpy  as np"
   ]
  },
  {
   "cell_type": "code",
   "execution_count": 20,
   "metadata": {},
   "outputs": [],
   "source": [
    "class SimpleFacerec:\n",
    "    def __init__(self):\n",
    "        self.known_face_encodings = []\n",
    "        self.known_face_names = []\n",
    "\n",
    "        # Resize frame for a faster speed \n",
    "        self.frame_resizing =  0.25\n",
    "    \n",
    "    def load_encoding_images(self,images_path):\n",
    "        '''\n",
    "            Load encoding images from path \n",
    "            :param images_path \n",
    "            return \n",
    "        '''\n",
    "\n",
    "        images = glob.glob(os.path.join(images_path,\"*\"))\n",
    "\n",
    "        print(\"{} encoidng images found\".format(len(images_path)))\n",
    "\n",
    "        # Store images encoding and names \n",
    "\n",
    "        for img_path in images_path:\n",
    "            img = cv2.imread(img_path)\n",
    "            rgb_img = cv2.cvtColor(img,cv2.COLOR_BGR2RGB)\n",
    "\n",
    "            # Get the filename only from the initial file Path.\n",
    "            basename = os.path.basename(img_path)\n",
    "            (filename,ext) = os.path.splitext(basename)\n",
    "\n",
    "            # Get encoidng \n",
    "            img_encoding = face_recognition.face_encodings(rgb_img)[0]\n",
    "\n",
    "            # Store file name and file encoding \n",
    "            self.known_face_encodings.append(img_encoding)\n",
    "            self.known_face_encodings.append(filename)\n",
    "        print('Encoding images loaded')\n",
    "    \n",
    "\n",
    "    def detect_known_faces(self,frame):\n",
    "\n",
    "        small_frame = cv2.resize(frame,(0,0),fx=self.frame_resizing,fy=self.frame_resizing)\n",
    "        rgb_small_frame = cv2.cvtColor(small_frame,cv2.COLOR_BGR2RGB)\n",
    "        face_locations = face_recognition.face_locations(rgb_small_frame)\n",
    "        face_encodings = face_recognition.face_encodings(rgb_small_frame,face_locations)\n",
    "\n",
    "        face_names = []\n",
    "        \n",
    "        for face_encoding in face_encodings:\n",
    "            # See if the face is a match for the known faces\n",
    "            matches = face_recognition.compare_faces(self.known_face_encodings,face_encoding)\n",
    "            name = 'Unknown'\n",
    "            \n",
    "            face_distances = face_recognition.face_distance(self.known_face_encodings,face_encoding)\n",
    "            best_match_index = np.argmin(face_distances)\n",
    "            if matches[best_match_index]:\n",
    "                name = self.known_face_encodings[best_match_index]\n",
    "            face_names.append(name)\n",
    "        \n",
    "        # Convert to numpy array to adjust coordinates with frame resizing \n",
    "        face_locations = np.array(face_locations)\n",
    "        face_locations = face_locations / self.frame_resizing\n",
    "        return face_locations.astype(int),face_names\n",
    "\n",
    "\n"
   ]
  },
  {
   "cell_type": "code",
   "execution_count": null,
   "metadata": {},
   "outputs": [],
   "source": [
    "C:\\Users\\pc\\OneDrive\\Desktop\\yolov7-main\\FaceDetection\\imges"
   ]
  }
 ],
 "metadata": {
  "kernelspec": {
   "display_name": "yolov7",
   "language": "python",
   "name": "python3"
  },
  "language_info": {
   "codemirror_mode": {
    "name": "ipython",
    "version": 3
   },
   "file_extension": ".py",
   "mimetype": "text/x-python",
   "name": "python",
   "nbconvert_exporter": "python",
   "pygments_lexer": "ipython3",
   "version": "3.9.19"
  }
 },
 "nbformat": 4,
 "nbformat_minor": 2
}
