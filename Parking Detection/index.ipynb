{
 "cells": [
  {
   "cell_type": "code",
   "execution_count": 1,
   "metadata": {},
   "outputs": [],
   "source": [
    "import cv2 \n",
    "import torch \n",
    "import numpy as np"
   ]
  },
  {
   "cell_type": "code",
   "execution_count": 2,
   "metadata": {},
   "outputs": [
    {
     "name": "stderr",
     "output_type": "stream",
     "text": [
      "Using cache found in C:\\Users\\pc/.cache\\torch\\hub\\ultralytics_yolov5_master\n",
      "YOLOv5  2024-9-14 Python-3.10.13 torch-2.3.0 CPU\n",
      "\n",
      "Downloading https://github.com/ultralytics/yolov5/releases/download/v7.0/yolov5s.pt to yolov5s.pt...\n",
      "100%|██████████| 14.1M/14.1M [00:04<00:00, 3.58MB/s]\n",
      "\n",
      "Fusing layers... \n",
      "YOLOv5s summary: 213 layers, 7225885 parameters, 0 gradients, 16.4 GFLOPs\n",
      "Adding AutoShape... \n"
     ]
    }
   ],
   "source": [
    "def POINTS(event,x,y,flags,param):\n",
    "    if event == cv2.EVENT_MOUSEMOVE:\n",
    "        colorsBGR = [x,y]\n",
    "        print(colorsBGR)\n",
    "\n",
    "cv2.namedWindow('FRAME')\n",
    "model = torch.hub.load('ultralytics/yolov5','yolov5s',pretrained=True)\n",
    "fourcc = cv2.VideoWriter_fourcc(*'XVID')\n",
    "out = cv2.VideoWriter('output.avi',fourcc,20.0,(640,480))\n",
    "\n",
    "cap = cv2.VideoCapture('parking.mp4')\n",
    "\n",
    "area = [(26,433),(9,516),(389, 492),(786,419),(720,368)]\n",
    "\n",
    "while True:\n",
    "\n",
    "    ret , frame = cap.read()\n",
    "    if not ret:\n",
    "        break \n",
    "    frame = cv2.resize(frame,(1020,600))\n",
    "\n",
    "    results = model(frame)\n",
    "    points = []\n",
    "    for index , row in results.pandas().xyxy[0].iterrows():\n",
    "        x1 = int(row['xmin'])\n",
    "        y1 = int(row['ymin'])\n",
    "        x2 = int(row['xmax'])\n",
    "        y2 = int(row['ymax'])\n",
    "\n",
    "        d = (row['name'])\n",
    "        cx = int(x1+x2) // 2 \n",
    "        cy = int(y1+y2) // 2\n",
    "\n",
    "        if 'car' in d:\n",
    "            results = cv2.pointPolygonTest(np.array(area,np.int32),(cx,cy),False)\n",
    "            if results >= 0:\n",
    "                cv2.rectangle(frame,(x1,y1),(x2,y2),(0,0,255),3)\n",
    "                cv2.putText(frame,str(d),(x1,y1),cv2.FONT_HERSHEY_PLAIN,2,(255,0,0),2)\n",
    "                points.append([cx])\n",
    "    \n",
    "    a = len(points)\n",
    "    cv2.polylines(frame,[np.array(area,np.int32)],True,(0,255,0),2)\n",
    "    cv2.putText(frame,'number of cars in parking ='+str(a),(50,80),cv2.FONT_HERSHEY_PLAIN,2,(0,0,255),2)\n",
    "\n",
    "    cv2.imshow('Frame',frame)\n",
    "    out.write(frame)\n",
    "\n",
    "    if cv2.waitKey(1) == 27:\n",
    "        break \n",
    "\n",
    "cap.release()\n",
    "out.release()\n",
    "cv2.destroyAllWindows()"
   ]
  },
  {
   "cell_type": "code",
   "execution_count": null,
   "metadata": {},
   "outputs": [],
   "source": []
  }
 ],
 "metadata": {
  "kernelspec": {
   "display_name": "yolov7",
   "language": "python",
   "name": "python3"
  },
  "language_info": {
   "codemirror_mode": {
    "name": "ipython",
    "version": 3
   },
   "file_extension": ".py",
   "mimetype": "text/x-python",
   "name": "python",
   "nbconvert_exporter": "python",
   "pygments_lexer": "ipython3",
   "version": "3.10.13"
  }
 },
 "nbformat": 4,
 "nbformat_minor": 2
}
