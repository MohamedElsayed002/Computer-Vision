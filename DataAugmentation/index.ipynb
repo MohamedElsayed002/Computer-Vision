{
 "cells": [
  {
   "cell_type": "code",
   "execution_count": 11,
   "metadata": {},
   "outputs": [
    {
     "name": "stdout",
     "output_type": "stream",
     "text": [
      "c:\\Users\\pc\\Desktop\\Computer-Vision\\CV\\CO\\DataAugmentation\n"
     ]
    }
   ],
   "source": [
    "import imgaug.augmenters as iaa \n",
    "import cv2 \n",
    "import glob \n",
    "import os \n",
    "\n",
    "print(os.getcwd())"
   ]
  },
  {
   "cell_type": "code",
   "execution_count": 6,
   "metadata": {},
   "outputs": [],
   "source": [
    "images = []\n",
    "images_path = glob.glob('C:/Users/pc/Desktop/Computer-Vision/CV/CO/DataAugmentation/*.jpg')"
   ]
  },
  {
   "cell_type": "code",
   "execution_count": 7,
   "metadata": {},
   "outputs": [],
   "source": [
    "for img_path in images_path:\n",
    "    img = cv2.imread(img_path)\n",
    "    images.append(img)"
   ]
  },
  {
   "cell_type": "code",
   "execution_count": 8,
   "metadata": {},
   "outputs": [],
   "source": [
    "# Image Augmentation\n",
    "\n",
    "augmentation = iaa.Sequential([\n",
    "    iaa.Fliplr(0.5)\n",
    "])"
   ]
  },
  {
   "cell_type": "code",
   "execution_count": 10,
   "metadata": {},
   "outputs": [
    {
     "data": {
      "text/plain": [
       "[array([[[120, 118, 118],\n",
       "         [122, 117, 118],\n",
       "         [122, 117, 118],\n",
       "         ...,\n",
       "         [ 37,  34, 143],\n",
       "         [ 37,  34, 143],\n",
       "         [ 36,  33, 142]],\n",
       " \n",
       "        [[119, 117, 117],\n",
       "         [121, 116, 117],\n",
       "         [121, 116, 117],\n",
       "         ...,\n",
       "         [ 39,  36, 145],\n",
       "         [ 38,  35, 144],\n",
       "         [ 37,  34, 143]],\n",
       " \n",
       "        [[118, 116, 116],\n",
       "         [121, 116, 117],\n",
       "         [121, 116, 117],\n",
       "         ...,\n",
       "         [ 39,  36, 145],\n",
       "         [ 39,  36, 145],\n",
       "         [ 40,  37, 146]],\n",
       " \n",
       "        ...,\n",
       " \n",
       "        [[200, 208, 208],\n",
       "         [198, 207, 210],\n",
       "         [194, 206, 210],\n",
       "         ...,\n",
       "         [  4,   4,   4],\n",
       "         [ 14,  14,  14],\n",
       "         [ 22,  22,  22]],\n",
       " \n",
       "        [[200, 208, 208],\n",
       "         [198, 207, 210],\n",
       "         [195, 207, 211],\n",
       "         ...,\n",
       "         [  2,   2,   2],\n",
       "         [ 10,  10,  10],\n",
       "         [ 19,  19,  19]],\n",
       " \n",
       "        [[200, 208, 208],\n",
       "         [198, 207, 210],\n",
       "         [195, 207, 211],\n",
       "         ...,\n",
       "         [  9,   9,   9],\n",
       "         [  6,   6,   6],\n",
       "         [  7,   7,   7]]], dtype=uint8),\n",
       " array([[[200, 184, 131],\n",
       "         [204, 188, 135],\n",
       "         [204, 189, 133],\n",
       "         ...,\n",
       "         [202, 188, 135],\n",
       "         [203, 189, 136],\n",
       "         [203, 189, 136]],\n",
       " \n",
       "        [[203, 187, 134],\n",
       "         [205, 190, 134],\n",
       "         [200, 185, 129],\n",
       "         ...,\n",
       "         [202, 188, 135],\n",
       "         [203, 189, 136],\n",
       "         [203, 189, 136]],\n",
       " \n",
       "        [[198, 183, 127],\n",
       "         [200, 185, 129],\n",
       "         [197, 182, 126],\n",
       "         ...,\n",
       "         [202, 188, 135],\n",
       "         [203, 189, 136],\n",
       "         [203, 189, 136]],\n",
       " \n",
       "        ...,\n",
       " \n",
       "        [[215, 224, 238],\n",
       "         [215, 224, 238],\n",
       "         [215, 224, 238],\n",
       "         ...,\n",
       "         [190, 197, 217],\n",
       "         [190, 197, 217],\n",
       "         [190, 197, 217]],\n",
       " \n",
       "        [[215, 224, 238],\n",
       "         [215, 224, 238],\n",
       "         [215, 224, 238],\n",
       "         ...,\n",
       "         [189, 196, 216],\n",
       "         [189, 196, 216],\n",
       "         [189, 196, 216]],\n",
       " \n",
       "        [[215, 224, 238],\n",
       "         [215, 224, 238],\n",
       "         [215, 224, 238],\n",
       "         ...,\n",
       "         [187, 194, 214],\n",
       "         [187, 194, 214],\n",
       "         [187, 194, 214]]], dtype=uint8)]"
      ]
     },
     "execution_count": 10,
     "metadata": {},
     "output_type": "execute_result"
    }
   ],
   "source": [
    "# 3 Show Images \n",
    "augmented_images = augmentation(images=images)\n",
    "\n",
    "augmented_images"
   ]
  },
  {
   "cell_type": "code",
   "execution_count": 12,
   "metadata": {},
   "outputs": [
    {
     "ename": "error",
     "evalue": "OpenCV(4.10.0) D:\\a\\opencv-python\\opencv-python\\opencv\\modules\\highgui\\src\\window.cpp:1301: error: (-2:Unspecified error) The function is not implemented. Rebuild the library with Windows, GTK+ 2.x or Cocoa support. If you are on Ubuntu or Debian, install libgtk2.0-dev and pkg-config, then re-run cmake or configure script in function 'cvShowImage'\n",
     "output_type": "error",
     "traceback": [
      "\u001b[1;31m---------------------------------------------------------------------------\u001b[0m",
      "\u001b[1;31merror\u001b[0m                                     Traceback (most recent call last)",
      "Cell \u001b[1;32mIn[12], line 2\u001b[0m\n\u001b[0;32m      1\u001b[0m \u001b[38;5;28;01mfor\u001b[39;00m img \u001b[38;5;129;01min\u001b[39;00m augmented_images:\n\u001b[1;32m----> 2\u001b[0m     \u001b[43mcv2\u001b[49m\u001b[38;5;241;43m.\u001b[39;49m\u001b[43mimshow\u001b[49m\u001b[43m(\u001b[49m\u001b[38;5;124;43m'\u001b[39;49m\u001b[38;5;124;43mImage\u001b[39;49m\u001b[38;5;124;43m'\u001b[39;49m\u001b[43m,\u001b[49m\u001b[43mimg\u001b[49m\u001b[43m)\u001b[49m\n\u001b[0;32m      3\u001b[0m     cv2\u001b[38;5;241m.\u001b[39mwaitKey(\u001b[38;5;241m0\u001b[39m)\n\u001b[0;32m      4\u001b[0m     cv2\u001b[38;5;241m.\u001b[39mdestroyAllWindows()\n",
      "\u001b[1;31merror\u001b[0m: OpenCV(4.10.0) D:\\a\\opencv-python\\opencv-python\\opencv\\modules\\highgui\\src\\window.cpp:1301: error: (-2:Unspecified error) The function is not implemented. Rebuild the library with Windows, GTK+ 2.x or Cocoa support. If you are on Ubuntu or Debian, install libgtk2.0-dev and pkg-config, then re-run cmake or configure script in function 'cvShowImage'\n"
     ]
    }
   ],
   "source": [
    "for img in augmented_images:\n",
    "    cv2.imshow('Image',img)\n",
    "    cv2.waitKey(0)\n",
    "    cv2.destroyAllWindows()"
   ]
  },
  {
   "cell_type": "code",
   "execution_count": null,
   "metadata": {},
   "outputs": [],
   "source": []
  }
 ],
 "metadata": {
  "kernelspec": {
   "display_name": "Python 3",
   "language": "python",
   "name": "python3"
  },
  "language_info": {
   "codemirror_mode": {
    "name": "ipython",
    "version": 3
   },
   "file_extension": ".py",
   "mimetype": "text/x-python",
   "name": "python",
   "nbconvert_exporter": "python",
   "pygments_lexer": "ipython3",
   "version": "3.12.4"
  }
 },
 "nbformat": 4,
 "nbformat_minor": 2
}
