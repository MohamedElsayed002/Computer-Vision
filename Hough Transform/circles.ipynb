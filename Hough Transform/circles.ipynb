{
 "cells": [
  {
   "cell_type": "code",
   "execution_count": 1,
   "metadata": {},
   "outputs": [],
   "source": [
    "import numpy as np \n",
    "import cv2 \n"
   ]
  },
  {
   "cell_type": "code",
   "execution_count": 2,
   "metadata": {},
   "outputs": [],
   "source": [
    "planets = cv2.imread('Circles.png',0)\n",
    "img = cv2.medianBlur(planets,5)\n",
    "cimg = cv2.cvtColor(img,cv2.COLOR_GRAY2BGR)\n"
   ]
  },
  {
   "cell_type": "code",
   "execution_count": 18,
   "metadata": {},
   "outputs": [],
   "source": [
    "import cv2\n",
    "import numpy as np\n",
    "\n",
    "# Load the image\n",
    "cimg = cv2.imread('Circles.png')  # Replace 'image_path.jpg' with the actual path to your image\n",
    "\n",
    "# Check if the image was loaded correctly\n",
    "if cimg is None:\n",
    "    print(\"Error: Image not loaded properly.\")\n",
    "else:\n",
    "    # Convert to grayscale\n",
    "    gray_img = cv2.cvtColor(cimg, cv2.COLOR_BGR2GRAY)\n",
    "\n",
    "    # Apply HoughCircles\n",
    "    circles = cv2.HoughCircles(gray_img, cv2.HOUGH_GRADIENT, 1, 120, param1=160, param2=30, minRadius=0, maxRadius=0)\n",
    "\n",
    "    if circles is not None:\n",
    "        circles = np.uint16(np.around(circles))\n",
    "\n",
    "        # Draw the circles\n",
    "        for i in circles[0, :]:\n",
    "            # Draw the outer circle\n",
    "            cv2.circle(cimg, (i[0], i[1]), i[2], (0, 255, 0), 2)\n",
    "            # Draw the center of the circle\n",
    "            cv2.circle(cimg, (i[0], i[1]), 2, (0, 0, 255), 3)\n",
    "\n",
    "        # Display the image\n",
    "        cv2.imshow('Detected Circles', cimg)\n",
    "        cv2.waitKey(0)\n",
    "        cv2.destroyAllWindows()\n",
    "    else:\n",
    "        print(\"No circles were detected.\")\n"
   ]
  },
  {
   "cell_type": "code",
   "execution_count": null,
   "metadata": {},
   "outputs": [],
   "source": [
    "cv2.imshow('ds',cimg)\n",
    "cv2.waitKey(0)\n",
    "cv2.destroyAllWindows()"
   ]
  }
 ],
 "metadata": {
  "kernelspec": {
   "display_name": "Python 3",
   "language": "python",
   "name": "python3"
  },
  "language_info": {
   "codemirror_mode": {
    "name": "ipython",
    "version": 3
   },
   "file_extension": ".py",
   "mimetype": "text/x-python",
   "name": "python",
   "nbconvert_exporter": "python",
   "pygments_lexer": "ipython3",
   "version": "3.12.4"
  }
 },
 "nbformat": 4,
 "nbformat_minor": 2
}
