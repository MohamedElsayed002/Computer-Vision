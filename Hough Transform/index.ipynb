{
 "cells": [
  {
   "cell_type": "code",
   "execution_count": 1,
   "metadata": {},
   "outputs": [],
   "source": [
    "import cv2 \n",
    "import numpy as np \n"
   ]
  },
  {
   "cell_type": "code",
   "execution_count": 7,
   "metadata": {},
   "outputs": [],
   "source": [
    "img = cv2.imread('OpenRectangle.png',0)\n",
    "edges = cv2.Canny(img,75,150)\n",
    "lines = cv2.HoughLinesP(edges,1,np.pi/180,30,maxLineGap=250)\n",
    "\n"
   ]
  },
  {
   "cell_type": "code",
   "execution_count": 8,
   "metadata": {},
   "outputs": [
    {
     "name": "stdout",
     "output_type": "stream",
     "text": [
      "[[228 158 707 158]]\n",
      "[[225 164 707 164]]\n",
      "[[225 394 707 394]]\n",
      "[[225 388 707 388]]\n",
      "[[707 393 707 159]]\n",
      "[[702 395 702 165]]\n",
      "[[225 389 708 389]]\n",
      "[[225 393 225 161]]\n",
      "[[230 395 230 167]]\n",
      "[[231 395 231 165]]\n",
      "[[585 395 703 395]]\n"
     ]
    }
   ],
   "source": [
    "for line in lines:\n",
    "    print(line)\n",
    "    x1 , y1 , x2 , y2 = line[0]\n",
    "    cv2.line(img,(x1,y1),(x2,y2),(0,255,0),2)"
   ]
  },
  {
   "cell_type": "code",
   "execution_count": 9,
   "metadata": {},
   "outputs": [],
   "source": [
    "cv2.imshow('Edges',edges)\n",
    "cv2.imshow('Image',img)\n",
    "cv2.waitKey(0)\n",
    "cv2.destroyAllWindows()"
   ]
  },
  {
   "cell_type": "code",
   "execution_count": null,
   "metadata": {},
   "outputs": [],
   "source": []
  }
 ],
 "metadata": {
  "kernelspec": {
   "display_name": "Python 3",
   "language": "python",
   "name": "python3"
  },
  "language_info": {
   "codemirror_mode": {
    "name": "ipython",
    "version": 3
   },
   "file_extension": ".py",
   "mimetype": "text/x-python",
   "name": "python",
   "nbconvert_exporter": "python",
   "pygments_lexer": "ipython3",
   "version": "3.12.4"
  }
 },
 "nbformat": 4,
 "nbformat_minor": 2
}
