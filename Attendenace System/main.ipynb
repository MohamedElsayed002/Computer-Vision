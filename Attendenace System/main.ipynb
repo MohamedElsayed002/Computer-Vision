{
 "cells": [
  {
   "cell_type": "code",
   "execution_count": 2,
   "metadata": {},
   "outputs": [
    {
     "name": "stdout",
     "output_type": "stream",
     "text": [
      "Requirement already satisfied: cmake in c:\\users\\pc\\anaconda3\\envs\\yolov7\\lib\\site-packages (3.30.3)\n",
      "Requirement already satisfied: dlib in c:\\users\\pc\\anaconda3\\envs\\yolov7\\lib\\site-packages (19.24.0)\n",
      "Requirement already satisfied: face_recognition in c:\\users\\pc\\anaconda3\\envs\\yolov7\\lib\\site-packages (1.3.0)\n",
      "Requirement already satisfied: numpy in c:\\users\\pc\\anaconda3\\envs\\yolov7\\lib\\site-packages (1.24.0)\n",
      "Requirement already satisfied: face-recognition-models>=0.3.0 in c:\\users\\pc\\anaconda3\\envs\\yolov7\\lib\\site-packages (from face_recognition) (0.3.0)\n",
      "Requirement already satisfied: Click>=6.0 in c:\\users\\pc\\anaconda3\\envs\\yolov7\\lib\\site-packages (from face_recognition) (8.1.7)\n",
      "Requirement already satisfied: Pillow in c:\\users\\pc\\anaconda3\\envs\\yolov7\\lib\\site-packages (from face_recognition) (10.4.0)\n",
      "Requirement already satisfied: colorama in c:\\users\\pc\\anaconda3\\envs\\yolov7\\lib\\site-packages (from Click>=6.0->face_recognition) (0.4.6)\n"
     ]
    }
   ],
   "source": [
    "!pip install cmake dlib face_recognition numpy\n"
   ]
  },
  {
   "cell_type": "code",
   "execution_count": 3,
   "metadata": {},
   "outputs": [],
   "source": [
    "import cv2 \n",
    "import numpy as np \n",
    "import face_recognition\n",
    "import os \n",
    "from datetime import datetime"
   ]
  },
  {
   "cell_type": "code",
   "execution_count": 4,
   "metadata": {},
   "outputs": [
    {
     "data": {
      "text/plain": [
       "'c:\\\\Users\\\\pc\\\\OneDrive\\\\Desktop\\\\Computer-Vision\\\\CV\\\\CO\\\\Attendenace System'"
      ]
     },
     "execution_count": 4,
     "metadata": {},
     "output_type": "execute_result"
    }
   ],
   "source": [
    "pwd"
   ]
  },
  {
   "cell_type": "code",
   "execution_count": 5,
   "metadata": {},
   "outputs": [
    {
     "name": "stdout",
     "output_type": "stream",
     "text": [
      "['paul.jpg', 'paul2.jpg', 'ryann.jpg', 'sayed.jpg']\n"
     ]
    }
   ],
   "source": [
    "path = 'Attendance'\n",
    "images = []\n",
    "classNames = []\n",
    "myList = os.listdir(path)\n",
    "print(myList)"
   ]
  },
  {
   "cell_type": "markdown",
   "metadata": {},
   "source": [
    "### Extracting names from the list"
   ]
  },
  {
   "cell_type": "code",
   "execution_count": 6,
   "metadata": {},
   "outputs": [
    {
     "name": "stdout",
     "output_type": "stream",
     "text": [
      "['paul', 'paul2', 'ryann', 'sayed']\n"
     ]
    }
   ],
   "source": [
    "for cl in myList:\n",
    "    curImg = cv2.imread(f'{path}/{cl}')\n",
    "    images.append(curImg)\n",
    "    classNames.append(os.path.splitext(cl)[0])\n",
    "print(classNames)"
   ]
  },
  {
   "cell_type": "markdown",
   "metadata": {},
   "source": [
    "### Converting the Images into Encodings "
   ]
  },
  {
   "cell_type": "code",
   "execution_count": 7,
   "metadata": {},
   "outputs": [],
   "source": [
    "def findEncodings(images):\n",
    "    encodeList = []\n",
    "    for img in images:\n",
    "        img = cv2.cvtColor(img,cv2.COLOR_BGR2RGB)\n",
    "        encode = face_recognition.face_encodings(img)[0]\n",
    "        encodeList.append(encodeList)\n",
    "    return encodeList"
   ]
  },
  {
   "cell_type": "markdown",
   "metadata": {},
   "source": [
    "### Making Attendance "
   ]
  },
  {
   "cell_type": "code",
   "execution_count": 8,
   "metadata": {},
   "outputs": [
    {
     "name": "stdout",
     "output_type": "stream",
     "text": [
      "Encoding Compelete\n"
     ]
    }
   ],
   "source": [
    "def makeAttendance(name):\n",
    "    with open('attendance.csv','r+') as f:\n",
    "        myDataList = f.readlines()\n",
    "        nameList = []\n",
    "        for line in myDataList:\n",
    "            entry = line.split(',')\n",
    "            nameList.append(entry[0])\n",
    "        if name not in nameList:\n",
    "            now = datetime.now()\n",
    "            dtString = now.strftime('%H:%M:%S')\n",
    "            f.writelines(f'\\n{name},{dtString}')\n",
    "\n",
    "\n",
    "encodeListKnown = findEncodings(images)\n",
    "print('Encoding Compelete')"
   ]
  },
  {
   "cell_type": "code",
   "execution_count": 9,
   "metadata": {},
   "outputs": [],
   "source": [
    "cap = cv2.VideoCapture(0)\n",
    "frame_resizing = 0.25\n",
    "\n",
    "while True:\n",
    "    success, img = cap.read()\n",
    "    imgS = cv2.resize(img, (0, 0), fx=frame_resizing, fy=frame_resizing)\n",
    "    imgS = cv2.cvtColor(imgS, cv2.COLOR_BGR2RGB)\n",
    " \n",
    "    facesCurFrame = face_recognition.face_locations(imgS)\n",
    "    encodesCurFrame = face_recognition.face_encodings(imgS,facesCurFrame)\n",
    " \n",
    "    for encodeFace,faceLoc in zip(encodesCurFrame,facesCurFrame):\n",
    "        matches = face_recognition.compare_faces(encodeListKnown,encodeFace)\n",
    "        print('matches',matches)\n",
    "        faceDis = face_recognition.face_distance(encodeListKnown,encodeFace)\n",
    "        print(faceDis)\n",
    "        matchIndex = np.argmin(faceDis)\n",
    "        if matches[matchIndex]:\n",
    "            name = classNames[matchIndex].upper()\n",
    "            print(name)\n",
    "            \n",
    "            faceLoc = np.array(faceLoc)\n",
    "            faceLoc = faceLoc / 0.25\n",
    "            faceLoc=faceLoc.astype(int)\n",
    "            #y1,x2,y2,x1 = faceLoc # in the other code we risize the face\n",
    "            #y1, x2, y2, x1 = y1*4,x2*4,y2*4,x1*4\n",
    "            y1, x2, y2, x1 = faceLoc[0], faceLoc[1], faceLoc[2], faceLoc[3]\n",
    "         \n",
    "            cv2.rectangle(img,(x1,y1),(x2,y2),(0,255,0),2)\n",
    "            cv2.rectangle(img,(x1,y2-35),(x2,y2),(0,255,0),cv2.FILLED)\n",
    "            cv2.putText(img,name,(x1+6,y2-6),cv2.FONT_HERSHEY_COMPLEX,1,(255,255,255),2)\n",
    "            makeAttendance(name)\n",
    " \n",
    "    cv2.imshow('Webcam',img)\n",
    "    key = cv2.waitKey(1)\n",
    "    if key == 27:\n",
    "        break\n",
    "cap.release()\n",
    "cv2.destroyAllWindows()\n"
   ]
  },
  {
   "cell_type": "code",
   "execution_count": null,
   "metadata": {},
   "outputs": [],
   "source": []
  }
 ],
 "metadata": {
  "kernelspec": {
   "display_name": "yolov7",
   "language": "python",
   "name": "python3"
  },
  "language_info": {
   "codemirror_mode": {
    "name": "ipython",
    "version": 3
   },
   "file_extension": ".py",
   "mimetype": "text/x-python",
   "name": "python",
   "nbconvert_exporter": "python",
   "pygments_lexer": "ipython3",
   "version": "3.9.19"
  }
 },
 "nbformat": 4,
 "nbformat_minor": 2
}
