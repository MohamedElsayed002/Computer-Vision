{
 "cells": [
  {
   "cell_type": "markdown",
   "metadata": {},
   "source": [
    "# Histogram of Oriented Gradients (HOG)"
   ]
  },
  {
   "cell_type": "code",
   "execution_count": null,
   "metadata": {},
   "outputs": [],
   "source": [
    "# Steps \n",
    "# 1- Resize the image\n",
    "# 2- Histogram \n",
    "# 3- Take slice of the image 8x8 from the whole image and stride 1 row and column \n",
    "# and count how many move to right and to bottom for multiplication\n",
    "# 4- each 8x8 have 4cell "
   ]
  },
  {
   "cell_type": "code",
   "execution_count": 1,
   "metadata": {},
   "outputs": [],
   "source": [
    "import matplotlib.pyplot as plt"
   ]
  },
  {
   "cell_type": "code",
   "execution_count": 2,
   "metadata": {},
   "outputs": [],
   "source": [
    "import cv2 "
   ]
  },
  {
   "cell_type": "code",
   "execution_count": 8,
   "metadata": {},
   "outputs": [],
   "source": [
    "filenmae = 'walking.jpg'\n"
   ]
  },
  {
   "cell_type": "code",
   "execution_count": 9,
   "metadata": {},
   "outputs": [],
   "source": [
    "def main():\n",
    "\n",
    "    # Create a HOGDescriptor object \n",
    "\n",
    "    hog = cv2.HOGDescriptor()\n",
    "\n",
    "    # Initialize the people Detector \n",
    "    \n",
    "    hog.setSVMDetector(cv2.HOGDescriptor_getDefaultPeopleDetector())\n",
    "\n",
    "    # Load an image \n",
    "\n",
    "    image = cv2.imread(filenmae)\n",
    "\n",
    "    # Detect People - Image Source Image\n",
    "    # winStride : step size in x and y direction of the sliding window\n",
    "    # padding: no. of pixels in x and y direction for padding of sliding window\n",
    "    # scale Detection window size increase coefficient \n",
    "    # bounding_boxes: location of detected people \n",
    "    # weights: weight scores of detected people\n",
    "\n",
    "    (bounding_boxes , weights) = hog.detectMultiScale(image,\n",
    "                                                      winStride=(4,4),\n",
    "                                                      padding=(8,8),\n",
    "                                                      scale=(1.05))\n",
    "    \n",
    "    # Draw bounding boxes on the image \n",
    "\n",
    "    for (x,y,w,h) in bounding_boxes:\n",
    "        cv2.rectangle(image,\n",
    "                      (x,y),\n",
    "                      (x+w, y+h),\n",
    "                      (0,0,255),\n",
    "                      4)\n",
    "        \n",
    "    # Create the output file name by removing the '.jpg' part\n",
    "\n",
    "    size = len(filenmae)\n",
    "    new_filename = filenmae[:size - 4]\n",
    "    new_filename = new_filename + '_detect.jpg'\n",
    "\n",
    "    # Save the new image in the working directory \n",
    "\n",
    "    cv2.imwrite(new_filename,image)\n",
    "\n",
    "    # Display the image \n",
    "\n",
    "    image = cv2.resize(image , (512,512))\n",
    "    cv2.imshow('Image', image)\n",
    "\n",
    "    cv2.waitKey(0)\n",
    "\n",
    "    cv2.destroyAllWindows()\n"
   ]
  },
  {
   "cell_type": "code",
   "execution_count": 10,
   "metadata": {},
   "outputs": [],
   "source": [
    "main()"
   ]
  },
  {
   "cell_type": "code",
   "execution_count": null,
   "metadata": {},
   "outputs": [],
   "source": []
  }
 ],
 "metadata": {
  "kernelspec": {
   "display_name": "tensorGPU",
   "language": "python",
   "name": "python3"
  },
  "language_info": {
   "codemirror_mode": {
    "name": "ipython",
    "version": 3
   },
   "file_extension": ".py",
   "mimetype": "text/x-python",
   "name": "python",
   "nbconvert_exporter": "python",
   "pygments_lexer": "ipython3",
   "version": "3.12.4"
  }
 },
 "nbformat": 4,
 "nbformat_minor": 2
}
