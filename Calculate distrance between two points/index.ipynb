{
 "cells": [
  {
   "cell_type": "code",
   "execution_count": 2,
   "metadata": {},
   "outputs": [],
   "source": [
    "import cv2 \n",
    "import numpy as np "
   ]
  },
  {
   "cell_type": "code",
   "execution_count": 10,
   "metadata": {},
   "outputs": [
    {
     "ename": "",
     "evalue": "",
     "output_type": "error",
     "traceback": [
      "\u001b[1;31mThe Kernel crashed while executing code in the current cell or a previous cell. \n",
      "\u001b[1;31mPlease review the code in the cell(s) to identify a possible cause of the failure. \n",
      "\u001b[1;31mClick <a href='https://aka.ms/vscodeJupyterKernelCrash'>here</a> for more info. \n",
      "\u001b[1;31mView Jupyter <a href='command:jupyter.viewOutput'>log</a> for further details."
     ]
    }
   ],
   "source": [
    "cap = cv2.VideoCapture(0)\n",
    "_ , prev = cap.read()\n",
    "_, new = cap.read()\n",
    "\n",
    "while True:\n",
    "    diff = cv2.absdiff(prev,new)\n",
    "    diff = cv2.cvtColor(diff,cv2.COLOR_BGR2GRAY)\n",
    "    diff = cv2.blur(diff,(5,5))\n",
    "    _,thresh = cv2.threshold(diff,10,255,cv2.THRESH_BINARY)\n",
    "    threh = cv2.dilate(thresh,None)\n",
    "    thresh = cv2.erode(thresh,np.ones((4,4)),1)\n",
    "    contour, _ =cv2.findContours(threh,cv2.RETR_TREE,cv2.CHAIN_APPROX_SIMPLE)\n",
    "    cv2.circle(prev,(20,200),5,(0,0,255),-1)\n",
    "    for contours in contour:\n",
    "        if cv2.contourArea(contours) > 30000:\n",
    "            (x,y,w,h) = cv2.boundingRect(contours)\n",
    "            (x1,y1),rad = cv2.minEnclosingCircle(contours)\n",
    "            x1 = int(x1)\n",
    "            y1 = int(y1)\n",
    "            cv2.line(prev,(20,200),(x1,y1),(255,0,0),4)\n",
    "            cv2.putText(prev, \"{}\".format(int(np.sqrt((x1-20)**2+(y1-200)))), (100,100), cv2.FONT_HERSHEY_COMPLEX, 2, (255,0,0), 3)\n",
    "            cv2.rectangle(prev,(x,y),(x+w,y+h),(0,255,0),2)\n",
    "            cv2.circle(prev,(x1,y1),5,(0,0,255),-1)\n",
    "\n",
    "    cv2.imshow('Orig',prev)\n",
    "    prev = new \n",
    "    _,new = cap.read()\n",
    "    new = cv2.flip(new,1)\n",
    "    if cv2.waitKey(1) == 27:\n",
    "        break\n",
    "cap.release()\n",
    "cv2.destroyAllWindows()\n"
   ]
  },
  {
   "cell_type": "code",
   "execution_count": null,
   "metadata": {},
   "outputs": [],
   "source": []
  },
  {
   "cell_type": "code",
   "execution_count": null,
   "metadata": {},
   "outputs": [],
   "source": []
  }
 ],
 "metadata": {
  "kernelspec": {
   "display_name": "tensorGPU",
   "language": "python",
   "name": "python3"
  },
  "language_info": {
   "codemirror_mode": {
    "name": "ipython",
    "version": 3
   },
   "file_extension": ".py",
   "mimetype": "text/x-python",
   "name": "python",
   "nbconvert_exporter": "python",
   "pygments_lexer": "ipython3",
   "version": "3.10.14"
  }
 },
 "nbformat": 4,
 "nbformat_minor": 2
}
