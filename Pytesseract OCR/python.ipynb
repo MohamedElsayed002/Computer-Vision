{
 "cells": [
  {
   "cell_type": "code",
   "execution_count": 2,
   "metadata": {},
   "outputs": [],
   "source": [
    "import pytesseract\n",
    "import cv2 \n",
    "import matplotlib.pyplot as plt\n",
    "import os "
   ]
  },
  {
   "cell_type": "code",
   "execution_count": 3,
   "metadata": {},
   "outputs": [],
   "source": [
    "pytesseract.pytesseract.tesseract_cmd = r'C:\\Program Files\\Teseract-OCR\\tesseract.exe'\n",
    "\n",
    "img = cv2.imread('./py2.png')"
   ]
  },
  {
   "cell_type": "code",
   "execution_count": 4,
   "metadata": {},
   "outputs": [],
   "source": [
    "# Resize the image \n",
    "\n",
    "img = cv2.resize(img,None,fx=0.5,fy=0.5)\n",
    "\n",
    "# Convert image to grayscale \n",
    "\n",
    "gray = cv2.cvtColor(img,cv2.COLOR_BGR2GRAY)\n",
    "\n",
    "# Convert image to black and white (using adaptive threshold) if not good in lighting\n",
    "\n",
    "adaptive_threshold = cv2.adaptiveThreshold(gray,255,cv2.ADAPTIVE_THRESH_GAUSSIAN_C,cv2.THRESH_BINARY,85,11)\n"
   ]
  },
  {
   "cell_type": "code",
   "execution_count": 5,
   "metadata": {},
   "outputs": [
    {
     "name": "stdout",
     "output_type": "stream",
     "text": [
      "def messageToBinary(message):\n",
      "\n",
      "if type(message) == str:\n",
      "ceturn ''.join([ format(ord(i), \"@8b\") for i in message ])\n",
      "\n",
      "elif type(message) == bytes or type(message) == np.ndarray:\n",
      "return [ format(i, \"68b\") for 4 in message ]\n",
      "\n",
      "elif type(nessage) == int or type(message) == np.uints:\n",
      "return format (message, “@8b\")\n",
      "\n",
      "else:\n",
      "raise TypeError(“Input type not supported“)\n",
      "\n",
      "\n"
     ]
    }
   ],
   "source": [
    "config = '--psm 3'\n",
    "text = pytesseract.image_to_string(adaptive_threshold,config=config,lang='eng')\n",
    "print(text)\n",
    "\n",
    "# cv2.imshow('gray',gray)\n",
    "# cv2.waitKey(0)\n",
    "# cv2.destroyAllWindows()"
   ]
  },
  {
   "cell_type": "code",
   "execution_count": null,
   "metadata": {},
   "outputs": [],
   "source": []
  }
 ],
 "metadata": {
  "kernelspec": {
   "display_name": "Python 3",
   "language": "python",
   "name": "python3"
  },
  "language_info": {
   "codemirror_mode": {
    "name": "ipython",
    "version": 3
   },
   "file_extension": ".py",
   "mimetype": "text/x-python",
   "name": "python",
   "nbconvert_exporter": "python",
   "pygments_lexer": "ipython3",
   "version": "3.10.14"
  }
 },
 "nbformat": 4,
 "nbformat_minor": 2
}
