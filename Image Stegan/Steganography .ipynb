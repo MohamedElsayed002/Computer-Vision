{
 "cells": [
  {
   "cell_type": "markdown",
   "metadata": {},
   "source": [
    "# Image Steganography"
   ]
  },
  {
   "cell_type": "code",
   "execution_count": 9,
   "metadata": {},
   "outputs": [],
   "source": [
    "# Import all the required libarries \n",
    "\n",
    "import cv2 \n",
    "import numpy as np \n",
    "import types \n",
    "import matplotlib.pyplot as plt \n",
    "%matplotlib inline"
   ]
  },
  {
   "cell_type": "code",
   "execution_count": 10,
   "metadata": {},
   "outputs": [],
   "source": [
    "def messageToBinary(message):\n",
    "    if type(message) == str: \n",
    "        return ''.join([format(ord(i),'08b') for i in message])\n",
    "    elif type(message) == bytes or type(message) == np.ndarray:\n",
    "        return [format(i,'08b') for i in message]\n",
    "    elif type(message) == int or type(message) == np.uint8:\n",
    "        return format(message,'08b')\n",
    "    else:\n",
    "        raise TypeError('Input Type not supported')"
   ]
  },
  {
   "cell_type": "code",
   "execution_count": 11,
   "metadata": {},
   "outputs": [],
   "source": [
    "def hideData(image,secret_message):\n",
    "\n",
    "    # calculate the maximum bytes to encode \n",
    "    n_bytes = image.shape[0] * image.shape[1] * 3 // 8 \n",
    "    print('Maximum bytes to encode: ', n_bytes)\n",
    "\n",
    "    # Check if the number of bytes to encode is less than the maximum bytes in \n",
    "    if len(secret_message) > n_bytes:\n",
    "        raise ValueError('Error encountered insufficient bytes')\n",
    "    \n",
    "    secret_message += '$$$$$'\n",
    "\n",
    "    data_index = 0 \n",
    "    # convert input data to binary format using messageToBinary() function\n",
    "    binary_secret_msg = messageToBinary(secret_message)\n",
    "\n",
    "    data_len = len(binary_secret_msg)\n",
    "    for values in image:\n",
    "        for pixel in values:\n",
    "            # convert RGB values to binary format \n",
    "            r , g ,b =messageToBinary(pixel)\n",
    "\n",
    "            # Modify the least significant bit only if there is still data\n",
    "            if data_index < data_len:\n",
    "                # hide the data into least significant bit of red pixel \n",
    "                pixel[0] = int(r[:-1] + binary_secret_msg[data_index],2)\n",
    "                data_index += 1 \n",
    "            \n",
    "            if data_index < data_len:\n",
    "                # hide the data into least significant bit of green pixel\n",
    "                pixel[1] = int(g[:-1] + binary_secret_msg[data_index],2)\n",
    "                data_index += 1\n",
    "            \n",
    "            if data_index < data_len:\n",
    "                # hide the data into least significant bit of blue pixel\n",
    "                pixel[2] = int(b[:-1] + binary_secret_msg[data_index],2)\n",
    "                data_index += 1\n",
    "            \n",
    "            # if data is encoded, just break out of the loop\n",
    "            if data_index >= data_len:\n",
    "                break \n",
    "    return image"
   ]
  },
  {
   "cell_type": "code",
   "execution_count": 12,
   "metadata": {},
   "outputs": [],
   "source": [
    "def showData(image):\n",
    "\n",
    "    binary_data = ''\n",
    "    for values in image:\n",
    "        for pixel in values:\n",
    "            r , g , b = messageToBinary(pixel)\n",
    "            binary_data += r[-1]\n",
    "            binary_data += g[-1]\n",
    "            binary_data += b[-1]\n",
    "    \n",
    "    # split by 8-bits \n",
    "    all_bytes = [binary_data[i:i+8] for i in range(0,len(binary_data),8)]\n",
    "\n",
    "    # convert from bits to characters \n",
    "    decoded_data = ''\n",
    "    for byte in all_bytes:\n",
    "        decoded_data += chr(int(byte,2))\n",
    "        if decoded_data[-5:] == '$$$$$':\n",
    "            break \n",
    "    print(decoded_data)\n",
    "    return decoded_data[:-5]\n"
   ]
  },
  {
   "cell_type": "code",
   "execution_count": 13,
   "metadata": {},
   "outputs": [],
   "source": [
    "# Encode data into image\n",
    "def encode_text():\n",
    "    image_name = input('Enter image name (with extension)')\n",
    "    image = cv2.imread(image_name)\n",
    "\n",
    "    print('the shape of the image is ',image.shape)\n",
    "    print('The original image is as shown below')\n",
    "\n",
    "    resized_image = cv2.resize(image,(500,500))\n",
    "    plt.imshow(cv2.cvtColor(resized_image,cv2.COLOR_BGR2RGB))\n",
    "\n",
    "    data = input('Enter data to be encoded')\n",
    "    if (len(data) == 0 ):\n",
    "        raise ValueError('Data is Empty')\n",
    "    \n",
    "    filename = input('Enter the name of the new encoded image (with extension)')\n",
    "    encoded_image = hideData(image,data)\n",
    "    cv2.imwrite(filename,encoded_image)"
   ]
  },
  {
   "cell_type": "code",
   "execution_count": 14,
   "metadata": {},
   "outputs": [],
   "source": [
    "# Decode the data in the image\n",
    "\n",
    "def decode_text():\n",
    "    # read the image that contains the hidden image \n",
    "    image_name = input('Enter the name of the steganographed image that you like')\n",
    "    image = cv2.imread(image_name)\n",
    "\n",
    "    print('The steganographed image is as shown below:')\n",
    "    resized_image = cv2.resize(image,(500,500))\n",
    "    plt.imshow(cv2.cvtColor(image,cv2.COLOR_BGR2GRAY))\n",
    "\n",
    "    text = showData(image)\n",
    "    return text"
   ]
  },
  {
   "cell_type": "code",
   "execution_count": 15,
   "metadata": {},
   "outputs": [
    {
     "name": "stdout",
     "output_type": "stream",
     "text": [
      "\n",
      " Decoding..\n",
      "The steganographed image is as shown below:\n"
     ]
    }
   ],
   "source": [
    "def Steganography():\n",
    "\n",
    "    a = input('Image Steganography \\n 1. Encode the data \\n 2 Decode the data')\n",
    "    userinput = int(a)\n",
    "    if(userinput == 1):\n",
    "        print('\\n Encoding..')\n",
    "        encode_text()\n",
    "    elif(userinput == 2):\n",
    "        print('\\n Decoding..')\n",
    "        print('Decoded message is ' + decode_text())\n",
    "    else:\n",
    "        raise Exception('Enter correct input ')\n",
    "    \n",
    "Steganography()"
   ]
  },
  {
   "cell_type": "code",
   "execution_count": null,
   "metadata": {},
   "outputs": [],
   "source": [
    "Steganography()"
   ]
  },
  {
   "cell_type": "code",
   "execution_count": null,
   "metadata": {},
   "outputs": [],
   "source": []
  }
 ],
 "metadata": {
  "kernelspec": {
   "display_name": "tensorGPU",
   "language": "python",
   "name": "python3"
  },
  "language_info": {
   "codemirror_mode": {
    "name": "ipython",
    "version": 3
   },
   "file_extension": ".py",
   "mimetype": "text/x-python",
   "name": "python",
   "nbconvert_exporter": "python",
   "pygments_lexer": "ipython3",
   "version": "3.12.4"
  }
 },
 "nbformat": 4,
 "nbformat_minor": 2
}
