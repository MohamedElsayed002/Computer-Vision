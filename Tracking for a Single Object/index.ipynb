{
 "cells": [
  {
   "cell_type": "code",
   "execution_count": 2,
   "metadata": {},
   "outputs": [],
   "source": [
    "import cv2 \n",
    "import imutils \n",
    "import os "
   ]
  },
  {
   "cell_type": "code",
   "execution_count": 3,
   "metadata": {},
   "outputs": [],
   "source": [
    "TrDict = {\n",
    "    'csrt' : cv2.TrackerCSRT_create,\n",
    "    'kcf' : cv2.TrackerKCF_create,\n",
    "    # 'boosting' : cv2.TrackerBoosting_create,\n",
    "    'mil' : cv2.TrackerMIL_create,\n",
    "    # 'tld' : cv2.TrackerTLD_create,\n",
    "    # 'medianflow' : cv2.TrackerMedianFlow_create,\n",
    "}"
   ]
  },
  {
   "cell_type": "code",
   "execution_count": 4,
   "metadata": {},
   "outputs": [],
   "source": [
    "tracker = TrDict['csrt']()"
   ]
  },
  {
   "cell_type": "code",
   "execution_count": 6,
   "metadata": {},
   "outputs": [],
   "source": [
    "v = cv2.VideoCapture('Salah.mp4')\n",
    "\n",
    "ret , frame = v.read()\n",
    "frame = imutils.resize(frame,width=600)\n",
    "cv2.imshow('Frame',frame)\n",
    "bb = cv2.selectROI('Frame',frame)\n",
    "tracker.init(frame,bb)\n",
    "cv2.waitKey(0)\n",
    "cv2.destroyAllWindows()\n",
    "\n",
    "\n",
    "while True:\n",
    "\n",
    "    ret , frame = v.read()\n",
    "    if not ret:\n",
    "        break \n",
    "    frame = imutils.resize(frame, width=600)\n",
    "    (success,box) = tracker.update(frame)\n",
    "    if success:\n",
    "        (x,y,w,h) = [int(a) for a in box]\n",
    "        cv2.rectangle(frame, (x, y), (x+w, y+h), (100, 255, 0), 2)\n",
    "\n",
    "    cv2.imshow('Frame',frame)\n",
    "    key = cv2.waitKey(30)\n",
    "    if key == ord('q'):\n",
    "        break\n",
    "v.release()\n",
    "cv2.destroyAllWindows()"
   ]
  },
  {
   "cell_type": "markdown",
   "metadata": {},
   "source": [
    "# Tracking Multible variable "
   ]
  },
  {
   "cell_type": "code",
   "execution_count": 8,
   "metadata": {},
   "outputs": [],
   "source": [
    "# trackers = cv2.MultiTracker_create()"
   ]
  },
  {
   "cell_type": "code",
   "execution_count": 7,
   "metadata": {},
   "outputs": [],
   "source": [
    "v = cv2.VideoCapture('Salah.mp4')\n",
    "\n",
    "ret , frame = v.read()"
   ]
  },
  {
   "cell_type": "code",
   "execution_count": 8,
   "metadata": {},
   "outputs": [],
   "source": [
    "k = 2 \n",
    "for i in range(k):\n",
    "    cv2.imshow('Frame',frame)\n",
    "    bb = cv2.selectROI('Frame',frame)\n",
    "    tracker_i = TrDict['csrt']()\n",
    "    tracker.add(tracker_i,frame,bb)\n",
    "cv2.waitKey(0)\n",
    "cv2.destroyAllWindows()\n",
    "    "
   ]
  },
  {
   "cell_type": "code",
   "execution_count": null,
   "metadata": {},
   "outputs": [],
   "source": [
    "while True:\n",
    "\n",
    "    ret , frame = v.read()\n",
    "    if not ret:\n",
    "        break \n",
    "    (success,boxes) = tracker.update(frame)\n",
    "    for box in boxes:\n",
    "        (x,y,w,h) = [int(a) for a in box]\n",
    "        cv2.rectangle(frame, (x, y), (x+w, y+h), (100, 255, 0), 2)\n",
    "    cv2.imshow('Frame',frame)\n",
    "    key = cv2.waitKey(5)\n",
    "    if key == ord('q'):\n",
    "        break\n",
    "v.release()\n",
    "cv2.destroyAllWindows()"
   ]
  },
  {
   "cell_type": "code",
   "execution_count": 1,
   "metadata": {},
   "outputs": [],
   "source": [
    "# https://www.youtube.com/watch?v=dtxOO6diOXc&t=1s"
   ]
  },
  {
   "cell_type": "code",
   "execution_count": null,
   "metadata": {},
   "outputs": [],
   "source": []
  }
 ],
 "metadata": {
  "kernelspec": {
   "display_name": "tensorGPU",
   "language": "python",
   "name": "python3"
  },
  "language_info": {
   "codemirror_mode": {
    "name": "ipython",
    "version": 3
   },
   "file_extension": ".py",
   "mimetype": "text/x-python",
   "name": "python",
   "nbconvert_exporter": "python",
   "pygments_lexer": "ipython3",
   "version": "3.10.14"
  }
 },
 "nbformat": 4,
 "nbformat_minor": 2
}
