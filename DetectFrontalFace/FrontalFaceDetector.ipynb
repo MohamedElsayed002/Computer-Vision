{
 "cells": [
  {
   "cell_type": "code",
   "execution_count": 9,
   "metadata": {},
   "outputs": [
    {
     "ename": "error",
     "evalue": "OpenCV(4.10.0) D:\\a\\opencv-python\\opencv-python\\opencv\\modules\\imgproc\\src\\color.cpp:196: error: (-215:Assertion failed) !_src.empty() in function 'cv::cvtColor'\n",
     "output_type": "error",
     "traceback": [
      "\u001b[1;31m---------------------------------------------------------------------------\u001b[0m",
      "\u001b[1;31merror\u001b[0m                                     Traceback (most recent call last)",
      "Cell \u001b[1;32mIn[9], line 29\u001b[0m\n\u001b[0;32m     23\u001b[0m \u001b[38;5;28;01mwhile\u001b[39;00m(cap\u001b[38;5;241m.\u001b[39misOpened()):\n\u001b[0;32m     25\u001b[0m     ret ,frame \u001b[38;5;241m=\u001b[39mcap\u001b[38;5;241m.\u001b[39mread()            \n\u001b[1;32m---> 29\u001b[0m     gray \u001b[38;5;241m=\u001b[39m\u001b[43mcv2\u001b[49m\u001b[38;5;241;43m.\u001b[39;49m\u001b[43mcvtColor\u001b[49m\u001b[43m(\u001b[49m\u001b[43mframe\u001b[49m\u001b[43m,\u001b[49m\u001b[43mcv2\u001b[49m\u001b[38;5;241;43m.\u001b[39;49m\u001b[43mCOLOR_BGR2GRAY\u001b[49m\u001b[43m)\u001b[49m                \n\u001b[0;32m     33\u001b[0m     faces \u001b[38;5;241m=\u001b[39mface_cascade\u001b[38;5;241m.\u001b[39mdetectMultiScale(gray ,\u001b[38;5;241m1.3\u001b[39m , \u001b[38;5;241m4\u001b[39m)                \n\u001b[0;32m     35\u001b[0m     \u001b[38;5;28;01mfor\u001b[39;00m (x,y,h,w) \u001b[38;5;129;01min\u001b[39;00m faces :               \n",
      "\u001b[1;31merror\u001b[0m: OpenCV(4.10.0) D:\\a\\opencv-python\\opencv-python\\opencv\\modules\\imgproc\\src\\color.cpp:196: error: (-215:Assertion failed) !_src.empty() in function 'cv::cvtColor'\n"
     ]
    },
    {
     "ename": "",
     "evalue": "",
     "output_type": "error",
     "traceback": [
      "\u001b[1;31mThe Kernel crashed while executing code in the current cell or a previous cell. \n",
      "\u001b[1;31mPlease review the code in the cell(s) to identify a possible cause of the failure. \n",
      "\u001b[1;31mClick <a href='https://aka.ms/vscodeJupyterKernelCrash'>here</a> for more info. \n",
      "\u001b[1;31mView Jupyter <a href='command:jupyter.viewOutput'>log</a> for further details."
     ]
    }
   ],
   "source": [
    "import numpy as np \n",
    "\n",
    "import cv2 \n",
    "\n",
    "import os \n",
    "\n",
    "# /?os.chdir(r\"E:\\faceeyedetection\")\n",
    "\n",
    "address = 'http://192.168.1.2:8080/video'\n",
    "cap =cv2.VideoCapture(0)\n",
    "cap.open(address)\n",
    "\n",
    "# address = 'put your address here'\n",
    "\n",
    "cap.open(address)\n",
    "\n",
    "face_cascade =cv2.CascadeClassifier(\"haarcascade_frontalface_default.xml\")\n",
    "\n",
    "eyes_cascade =cv2.CascadeClassifier(\"haarcascade_eye.xml\")\n",
    "\n",
    "\n",
    "\n",
    "while(cap.isOpened()):\n",
    "\n",
    "    ret ,frame =cap.read()            \n",
    "\n",
    "    \n",
    "\n",
    "    gray =cv2.cvtColor(frame,cv2.COLOR_BGR2GRAY)                \n",
    "\n",
    "    \n",
    "\n",
    "    faces =face_cascade.detectMultiScale(gray ,1.3 , 4)                \n",
    "\n",
    "    for (x,y,h,w) in faces :               \n",
    "\n",
    "        img = cv2.rectangle(frame ,(x,y),(x+w ,y+h),(0,255,0),3)                     \n",
    "\n",
    "        img[y:y+h,x:x+w] = cv2.medianBlur(img[y:y+h,x:x+w],75)                     \n",
    "\n",
    "        \n",
    "\n",
    "        roi_gray=gray[y:y+h ,x:x+w]                      \n",
    "\n",
    "        roi_color=frame[y:y+h ,x:x+w]                     \n",
    "\n",
    "        eyes =eyes_cascade.detectMultiScale(roi_gray)                     \n",
    "\n",
    "        for(ex,ey,eh,ew) in eyes :                    \n",
    "\n",
    "            cv2.rectangle(roi_color ,(ex,ey),(ex+ew ,ey+eh),(0,0,255),3)                           \n",
    "\n",
    "  \n",
    "\n",
    "    \n",
    "\n",
    "    cv2.imshow(\"frame\" ,frame)\n",
    "\n",
    "    \n",
    "\n",
    "    key =cv2.waitKey(1)\n",
    "\n",
    "    if(key == 27):\n",
    "\n",
    "        break \n",
    "\n",
    "        \n",
    "\n",
    "cap.release()\n",
    "\n",
    "cv2.destroyAllWindows()"
   ]
  },
  {
   "cell_type": "code",
   "execution_count": null,
   "metadata": {},
   "outputs": [],
   "source": []
  },
  {
   "cell_type": "code",
   "execution_count": null,
   "metadata": {},
   "outputs": [],
   "source": []
  }
 ],
 "metadata": {
  "kernelspec": {
   "display_name": "Python 3",
   "language": "python",
   "name": "python3"
  },
  "language_info": {
   "codemirror_mode": {
    "name": "ipython",
    "version": 3
   },
   "file_extension": ".py",
   "mimetype": "text/x-python",
   "name": "python",
   "nbconvert_exporter": "python",
   "pygments_lexer": "ipython3",
   "version": "3.12.4"
  }
 },
 "nbformat": 4,
 "nbformat_minor": 2
}
