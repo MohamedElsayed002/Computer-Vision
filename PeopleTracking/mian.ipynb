{
 "cells": [
  {
   "cell_type": "code",
   "execution_count": 3,
   "metadata": {},
   "outputs": [
    {
     "name": "stderr",
     "output_type": "stream",
     "text": [
      "Using cache found in C:\\Users\\pc/.cache\\torch\\hub\\ultralytics_yolov5_master\n",
      "YOLOv5  2024-9-14 Python-3.10.13 torch-2.3.0 CPU\n",
      "\n",
      "Fusing layers... \n",
      "YOLOv5s summary: 213 layers, 7225885 parameters, 0 gradients, 16.4 GFLOPs\n",
      "Adding AutoShape... \n"
     ]
    }
   ],
   "source": [
    "import cv2 \n",
    "import torch \n",
    "import numpy as np\n",
    "from tracker import *\n",
    "\n",
    "model = torch.hub.load('ultralytics/yolov5','yolov5s',pretrained=True)"
   ]
  },
  {
   "cell_type": "code",
   "execution_count": 4,
   "metadata": {},
   "outputs": [],
   "source": [
    "def POINTS(event,x,y,flags,param):\n",
    "    if event == cv2.EVENT_MOUSEMOVE:\n",
    "        colorsBGR = [x,y]\n",
    "        print(colorsBGR)\n",
    "        "
   ]
  },
  {
   "cell_type": "code",
   "execution_count": 5,
   "metadata": {},
   "outputs": [],
   "source": [
    "tracker = Tracker()\n",
    "area = [(377,315),(429,373),(535,339),(500,296)]\n",
    "\n",
    "cap = cv2.VideoCapture('cctv.mp4')\n"
   ]
  },
  {
   "cell_type": "code",
   "execution_count": 6,
   "metadata": {},
   "outputs": [
    {
     "name": "stdout",
     "output_type": "stream",
     "text": [
      "[847, 238]\n",
      "[943, 4]\n",
      "[943, 5]\n",
      "[934, 27]\n",
      "[899, 48]\n",
      "[896, 53]\n",
      "[880, 87]\n",
      "[879, 92]\n",
      "[878, 94]\n"
     ]
    }
   ],
   "source": [
    "cv2.namedWindow('FRAME')\n",
    "cv2.setMouseCallback('FRAME',POINTS)\n",
    "cap = cv2.VideoCapture('cctv.mp4')\n",
    "\n",
    "points = []\n",
    "c = set()\n",
    "while True:\n",
    "    ret , frame = cap.read()\n",
    "    frame = cv2.resize(frame,(1020,500))\n",
    "\n",
    "    results = model(frame)\n",
    "    frame = np.squeeze(results.render())\n",
    "\n",
    "    boxes_id = tracker.update(points)\n",
    "\n",
    "    for box_id in boxes_id:\n",
    "\n",
    "        x , y , w , h , idd = box_id \n",
    "\n",
    "        cv2.rectangle(frame,(x,y),(w,h),(255,0,255),2)\n",
    "        cv2.putText(frame,str(idd),(x,y),cv2.FONT_HERSHEY_PLAIN,3,(255,0,0),2)\n",
    "        results = cv2.pointPolygonTest(np.array(area,np.int32),(w,h),False)\n",
    "\n",
    "        if results >= 0:\n",
    "            c.add(idd)\n",
    "    a = len(c)\n",
    "    cv2.putText(frame,'number of people is ='+str(a),(50,65),cv2.FONT_HERSHEY_PLAIN,3,(0,0,255),2)\n",
    "\n",
    "\n",
    "\n",
    "    cv2.imshow('FRAME',frame)\n",
    "    if cv2.waitKey(1) & 0xFF == 27:\n",
    "        break \n",
    "\n",
    "cap.release()\n",
    "cv2.destroyAllWindows()"
   ]
  },
  {
   "cell_type": "code",
   "execution_count": null,
   "metadata": {},
   "outputs": [],
   "source": []
  }
 ],
 "metadata": {
  "kernelspec": {
   "display_name": "tensorGPU",
   "language": "python",
   "name": "python3"
  },
  "language_info": {
   "codemirror_mode": {
    "name": "ipython",
    "version": 3
   },
   "file_extension": ".py",
   "mimetype": "text/x-python",
   "name": "python",
   "nbconvert_exporter": "python",
   "pygments_lexer": "ipython3",
   "version": "3.10.13"
  }
 },
 "nbformat": 4,
 "nbformat_minor": 2
}
